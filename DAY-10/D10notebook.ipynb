{
 "cells": [
  {
   "cell_type": "code",
   "execution_count": 1,
   "id": "846d4184-ebca-4d34-9c4e-65dd922604b5",
   "metadata": {},
   "outputs": [
    {
     "name": "stdout",
     "output_type": "stream",
     "text": [
      "Welcome to Jupyter Notebook\n"
     ]
    }
   ],
   "source": [
    "print(\"Welcome to Jupyter Notebook\")"
   ]
  },
  {
   "cell_type": "markdown",
   "id": "a7f7edd0-0fa8-4c92-8c7b-301eb8f60c04",
   "metadata": {},
   "source": [
    "# we had this"
   ]
  },
  {
   "cell_type": "code",
   "execution_count": null,
   "id": "91e3385c-76ce-47c3-bf9d-7ec93a6768a1",
   "metadata": {},
   "outputs": [],
   "source": []
  }
 ],
 "metadata": {
  "kernelspec": {
   "display_name": "Python [conda env:base] *",
   "language": "python",
   "name": "conda-base-py"
  },
  "language_info": {
   "codemirror_mode": {
    "name": "ipython",
    "version": 3
   },
   "file_extension": ".py",
   "mimetype": "text/x-python",
   "name": "python",
   "nbconvert_exporter": "python",
   "pygments_lexer": "ipython3",
   "version": "3.13.5"
  }
 },
 "nbformat": 4,
 "nbformat_minor": 5
}
