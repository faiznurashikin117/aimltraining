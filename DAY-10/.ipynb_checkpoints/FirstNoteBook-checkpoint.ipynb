{
 "cells": [
  {
   "cell_type": "markdown",
   "id": "baa5872f-34e3-4fda-81da-883d11bd82c6",
   "metadata": {},
   "source": [
    "# First Note Book\n",
    "## Steps to print a Single Line\n",
    "    We will create Code Cell \n",
    "    We will write print command \n",
    "    We will run the cell"
   ]
  },
  {
   "cell_type": "code",
   "execution_count": 2,
   "id": "784512ff-a9b5-4690-8b49-536146a00403",
   "metadata": {},
   "outputs": [
    {
     "name": "stdout",
     "output_type": "stream",
     "text": [
      "Welcome to Python Note Book\n"
     ]
    }
   ],
   "source": [
    "print(\"Welcome to Python Note Book\")"
   ]
  },
  {
   "cell_type": "markdown",
   "id": "14d47dae-a87d-4503-8337-8125c46d6189",
   "metadata": {},
   "source": [
    "# For loop example"
   ]
  },
  {
   "cell_type": "code",
   "execution_count": 4,
   "id": "a4ca1766-2c49-422b-bf3f-8afae9dfef42",
   "metadata": {},
   "outputs": [
    {
     "name": "stdout",
     "output_type": "stream",
     "text": [
      "1\t2\t3\t4\t5\t6\t7\t8\t9\t10\t11\t12\t13\t14\t15\t16\t17\t18\t19\t20\t21\t22\t23\t24\t25\t26\t27\t28\t29\t30\t31\t32\t33\t34\t35\t36\t37\t38\t39\t40\t41\t42\t43\t44\t45\t46\t47\t48\t49\t50\t51\t52\t53\t54\t55\t56\t57\t58\t59\t60\t61\t62\t63\t64\t65\t66\t67\t68\t69\t70\t71\t72\t73\t74\t75\t76\t77\t78\t79\t80\t81\t82\t83\t84\t85\t86\t87\t88\t89\t90\t91\t92\t93\t94\t95\t96\t97\t98\t99\t100\t"
     ]
    }
   ],
   "source": [
    "for num in range(1,101):\n",
    "    print(num,end=\"\\t\")"
   ]
  },
  {
   "cell_type": "code",
   "execution_count": 8,
   "id": "9567da4c-b148-48be-89c6-e409a51b7edb",
   "metadata": {},
   "outputs": [],
   "source": [
    "players=(\"MS.Dhoni\",\"Moin Ali\",\"Rashid Khan\",\"Dawid Warner\",\"Joe Root\",\"Adam\")"
   ]
  },
  {
   "cell_type": "code",
   "execution_count": 9,
   "id": "49c23699-9d5c-4547-9963-c7a4ee15efc5",
   "metadata": {},
   "outputs": [
    {
     "name": "stdout",
     "output_type": "stream",
     "text": [
      "MS.Dhoni\n",
      "Moin Ali\n",
      "Rashid Khan\n",
      "Dawid Warner\n",
      "Joe Root\n",
      "Adam\n"
     ]
    }
   ],
   "source": [
    "for player in players:\n",
    "    print(player)"
   ]
  },
  {
   "cell_type": "code",
   "execution_count": 10,
   "id": "1e82fd1e-ee22-4b70-bfc7-c0cfa679069c",
   "metadata": {},
   "outputs": [
    {
     "name": "stdout",
     "output_type": "stream",
     "text": [
      "Welcome\n"
     ]
    }
   ],
   "source": [
    "print(\"Welcome\")"
   ]
  },
  {
   "cell_type": "code",
   "execution_count": 11,
   "id": "d475ab7c-e21d-40cc-8d91-7bb9065912cb",
   "metadata": {},
   "outputs": [
    {
     "name": "stdout",
     "output_type": "stream",
     "text": [
      "Welcome Again\n",
      "One more Thing\n"
     ]
    }
   ],
   "source": [
    "print(\"Welcome Again\")\n",
    "print(\"One more Thing\")"
   ]
  },
  {
   "cell_type": "code",
   "execution_count": null,
   "id": "a97610e6-52bd-4118-9453-33dc3a80dac8",
   "metadata": {},
   "outputs": [],
   "source": []
  }
 ],
 "metadata": {
  "kernelspec": {
   "display_name": "Python [conda env:base] *",
   "language": "python",
   "name": "conda-base-py"
  },
  "language_info": {
   "codemirror_mode": {
    "name": "ipython",
    "version": 3
   },
   "file_extension": ".py",
   "mimetype": "text/x-python",
   "name": "python",
   "nbconvert_exporter": "python",
   "pygments_lexer": "ipython3",
   "version": "3.13.5"
  }
 },
 "nbformat": 4,
 "nbformat_minor": 5
}
