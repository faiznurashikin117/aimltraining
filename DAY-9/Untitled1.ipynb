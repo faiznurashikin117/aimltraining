{
 "cells": [
  {
   "cell_type": "code",
   "execution_count": 1,
   "id": "95e240db-7d28-4bcd-b53c-3ff479cadb11",
   "metadata": {},
   "outputs": [
    {
     "name": "stdout",
     "output_type": "stream",
     "text": [
      "Second notebook\n"
     ]
    }
   ],
   "source": [
    "print('Second notebook')"
   ]
  },
  {
   "cell_type": "code",
   "execution_count": null,
   "id": "98da8ce5-032d-472e-b328-98f8a2d93a07",
   "metadata": {},
   "outputs": [],
   "source": []
  }
 ],
 "metadata": {
  "kernelspec": {
   "display_name": "Python 3 (ipykernel)",
   "language": "python",
   "name": "python3"
  },
  "language_info": {
   "codemirror_mode": {
    "name": "ipython",
    "version": 3
   },
   "file_extension": ".py",
   "mimetype": "text/x-python",
   "name": "python",
   "nbconvert_exporter": "python",
   "pygments_lexer": "ipython3",
   "version": "3.13.5"
  }
 },
 "nbformat": 4,
 "nbformat_minor": 5
}
