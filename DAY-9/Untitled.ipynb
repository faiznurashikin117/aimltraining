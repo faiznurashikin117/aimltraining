{
 "cells": [
  {
   "cell_type": "markdown",
   "id": "ed0bad97-f7d2-4c27-8800-e42f2ad7bc79",
   "metadata": {},
   "source": [
    "# First Jupyter Notebook"
   ]
  },
  {
   "cell_type": "code",
   "execution_count": 1,
   "id": "26cd9672-b65d-4c95-81cc-e0adb865f6d6",
   "metadata": {},
   "outputs": [
    {
     "name": "stdout",
     "output_type": "stream",
     "text": [
      "Welcome to Jupyter\n"
     ]
    }
   ],
   "source": [
    "print('Welcome to Jupyter')"
   ]
  },
  {
   "cell_type": "code",
   "execution_count": 8,
   "id": "d042162b-6029-4392-90fb-d3bc3eb69a72",
   "metadata": {
    "scrolled": true
   },
   "outputs": [
    {
     "name": "stdout",
     "output_type": "stream",
     "text": [
      "12\n",
      "13\n",
      "45\n",
      "56\n",
      "67\n",
      "98\n",
      "100\n"
     ]
    }
   ],
   "source": [
    "for num in numbers:\n",
    "    print(num)"
   ]
  },
  {
   "cell_type": "code",
   "execution_count": 7,
   "id": "c5562717-890b-4a1f-8c7f-16c8bc76995f",
   "metadata": {},
   "outputs": [],
   "source": [
    "#we are going to write one collection of numbers\n",
    "numbers=[12,13,45,56,67,98,100]"
   ]
  },
  {
   "cell_type": "markdown",
   "id": "7f78d846-a27c-4f86-939d-8752b1cc46d2",
   "metadata": {},
   "source": [
    "#To add comment above, Shift+a"
   ]
  },
  {
   "cell_type": "code",
   "execution_count": 12,
   "id": "e2bcd750-c739-4037-9c13-ee14728f9db4",
   "metadata": {},
   "outputs": [],
   "source": [
    "num1=24"
   ]
  },
  {
   "cell_type": "code",
   "execution_count": 13,
   "id": "0a81b4f0-85fd-4244-ac71-6dbc5c46f443",
   "metadata": {},
   "outputs": [],
   "source": [
    "num2=25"
   ]
  },
  {
   "cell_type": "markdown",
   "id": "f025bc55-0535-40b5-91c4-1b5dbfbe45c1",
   "metadata": {},
   "source": [
    "#to add comment below, Shift+b"
   ]
  },
  {
   "cell_type": "code",
   "execution_count": 14,
   "id": "03cf5b56-4e0e-415b-a59b-842f1ddac824",
   "metadata": {},
   "outputs": [],
   "source": [
    "def add(num):\n",
    "    num1+num2"
   ]
  },
  {
   "cell_type": "code",
   "execution_count": null,
   "id": "07f811b3-923a-4940-a4b5-841d6db194dd",
   "metadata": {},
   "outputs": [],
   "source": []
  }
 ],
 "metadata": {
  "kernelspec": {
   "display_name": "Python 3 (ipykernel)",
   "language": "python",
   "name": "python3"
  },
  "language_info": {
   "codemirror_mode": {
    "name": "ipython",
    "version": 3
   },
   "file_extension": ".py",
   "mimetype": "text/x-python",
   "name": "python",
   "nbconvert_exporter": "python",
   "pygments_lexer": "ipython3",
   "version": "3.13.5"
  }
 },
 "nbformat": 4,
 "nbformat_minor": 5
}
